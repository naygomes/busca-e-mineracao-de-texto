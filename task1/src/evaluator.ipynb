{
 "cells": [
  {
   "cell_type": "markdown",
   "metadata": {},
   "source": [
    "# Avaliador de Resultados"
   ]
  },
  {
   "cell_type": "code",
   "execution_count": 440,
   "metadata": {},
   "outputs": [],
   "source": [
    "import numpy as np\n",
    "import pandas as pd\n",
    "\n",
    "import matplotlib.pyplot as plt"
   ]
  },
  {
   "cell_type": "markdown",
   "metadata": {},
   "source": [
    "### Esperados"
   ]
  },
  {
   "cell_type": "code",
   "execution_count": 441,
   "metadata": {},
   "outputs": [
    {
     "data": {
      "text/html": [
       "<div>\n",
       "<style scoped>\n",
       "    .dataframe tbody tr th:only-of-type {\n",
       "        vertical-align: middle;\n",
       "    }\n",
       "\n",
       "    .dataframe tbody tr th {\n",
       "        vertical-align: top;\n",
       "    }\n",
       "\n",
       "    .dataframe thead th {\n",
       "        text-align: right;\n",
       "    }\n",
       "</style>\n",
       "<table border=\"1\" class=\"dataframe\">\n",
       "  <thead>\n",
       "    <tr style=\"text-align: right;\">\n",
       "      <th></th>\n",
       "      <th>QueryNumber</th>\n",
       "      <th>DocNumber</th>\n",
       "      <th>DocVotes</th>\n",
       "    </tr>\n",
       "  </thead>\n",
       "  <tbody>\n",
       "    <tr>\n",
       "      <th>0</th>\n",
       "      <td>1</td>\n",
       "      <td>139</td>\n",
       "      <td>4</td>\n",
       "    </tr>\n",
       "    <tr>\n",
       "      <th>1</th>\n",
       "      <td>1</td>\n",
       "      <td>151</td>\n",
       "      <td>4</td>\n",
       "    </tr>\n",
       "    <tr>\n",
       "      <th>2</th>\n",
       "      <td>1</td>\n",
       "      <td>166</td>\n",
       "      <td>1</td>\n",
       "    </tr>\n",
       "    <tr>\n",
       "      <th>3</th>\n",
       "      <td>1</td>\n",
       "      <td>311</td>\n",
       "      <td>1</td>\n",
       "    </tr>\n",
       "    <tr>\n",
       "      <th>4</th>\n",
       "      <td>1</td>\n",
       "      <td>370</td>\n",
       "      <td>2</td>\n",
       "    </tr>\n",
       "  </tbody>\n",
       "</table>\n",
       "</div>"
      ],
      "text/plain": [
       "   QueryNumber  DocNumber  DocVotes\n",
       "0            1        139         4\n",
       "1            1        151         4\n",
       "2            1        166         1\n",
       "3            1        311         1\n",
       "4            1        370         2"
      ]
     },
     "execution_count": 441,
     "metadata": {},
     "output_type": "execute_result"
    }
   ],
   "source": [
    "df_esperados = pd.read_csv('../result/esperados.csv', sep=';')\n",
    "df_esperados.head()"
   ]
  },
  {
   "cell_type": "markdown",
   "metadata": {},
   "source": [
    "### Com Stemmer"
   ]
  },
  {
   "cell_type": "code",
   "execution_count": 442,
   "metadata": {},
   "outputs": [
    {
     "data": {
      "text/html": [
       "<div>\n",
       "<style scoped>\n",
       "    .dataframe tbody tr th:only-of-type {\n",
       "        vertical-align: middle;\n",
       "    }\n",
       "\n",
       "    .dataframe tbody tr th {\n",
       "        vertical-align: top;\n",
       "    }\n",
       "\n",
       "    .dataframe thead th {\n",
       "        text-align: right;\n",
       "    }\n",
       "</style>\n",
       "<table border=\"1\" class=\"dataframe\">\n",
       "  <thead>\n",
       "    <tr style=\"text-align: right;\">\n",
       "      <th></th>\n",
       "      <th>QueryId</th>\n",
       "      <th>DocPosition</th>\n",
       "      <th>DocNumber</th>\n",
       "      <th>ElementDistance</th>\n",
       "    </tr>\n",
       "  </thead>\n",
       "  <tbody>\n",
       "    <tr>\n",
       "      <th>0</th>\n",
       "      <td>1</td>\n",
       "      <td>1</td>\n",
       "      <td>484</td>\n",
       "      <td>0.2210348059872781</td>\n",
       "    </tr>\n",
       "    <tr>\n",
       "      <th>1</th>\n",
       "      <td>1</td>\n",
       "      <td>2</td>\n",
       "      <td>437</td>\n",
       "      <td>0.20071038791325813</td>\n",
       "    </tr>\n",
       "    <tr>\n",
       "      <th>2</th>\n",
       "      <td>1</td>\n",
       "      <td>3</td>\n",
       "      <td>957</td>\n",
       "      <td>0.1709966846928236</td>\n",
       "    </tr>\n",
       "    <tr>\n",
       "      <th>3</th>\n",
       "      <td>1</td>\n",
       "      <td>4</td>\n",
       "      <td>526</td>\n",
       "      <td>0.166461813609632</td>\n",
       "    </tr>\n",
       "    <tr>\n",
       "      <th>4</th>\n",
       "      <td>1</td>\n",
       "      <td>5</td>\n",
       "      <td>827</td>\n",
       "      <td>0.16326113645715498</td>\n",
       "    </tr>\n",
       "  </tbody>\n",
       "</table>\n",
       "</div>"
      ],
      "text/plain": [
       "   QueryId DocPosition DocNumber      ElementDistance\n",
       "0        1           1       484   0.2210348059872781\n",
       "1        1           2       437  0.20071038791325813\n",
       "2        1           3       957   0.1709966846928236\n",
       "3        1           4       526    0.166461813609632\n",
       "4        1           5       827  0.16326113645715498"
      ]
     },
     "execution_count": 442,
     "metadata": {},
     "output_type": "execute_result"
    }
   ],
   "source": [
    "df_stem = pd.read_csv('../result/resultados-stemmer.csv', sep=';')\n",
    "\n",
    "df_stem_split = df_stem['ResultList'].str.split(', ', expand=True)\n",
    "\n",
    "df_stem['DocPosition'] = df_stem_split[0].str[1:]\n",
    "df_stem['DocNumber'] = df_stem_split[1]\n",
    "df_stem['ElementDistance'] = df_stem_split[2].str[:-1]\n",
    "\n",
    "df_stem.drop(columns=['ResultList'], inplace=True)\n",
    "\n",
    "df_stem.head()"
   ]
  },
  {
   "cell_type": "markdown",
   "metadata": {},
   "source": [
    "### Sem Stemmer"
   ]
  },
  {
   "cell_type": "code",
   "execution_count": 443,
   "metadata": {},
   "outputs": [
    {
     "data": {
      "text/html": [
       "<div>\n",
       "<style scoped>\n",
       "    .dataframe tbody tr th:only-of-type {\n",
       "        vertical-align: middle;\n",
       "    }\n",
       "\n",
       "    .dataframe tbody tr th {\n",
       "        vertical-align: top;\n",
       "    }\n",
       "\n",
       "    .dataframe thead th {\n",
       "        text-align: right;\n",
       "    }\n",
       "</style>\n",
       "<table border=\"1\" class=\"dataframe\">\n",
       "  <thead>\n",
       "    <tr style=\"text-align: right;\">\n",
       "      <th></th>\n",
       "      <th>QueryId</th>\n",
       "      <th>DocPosition</th>\n",
       "      <th>DocNumber</th>\n",
       "      <th>ElementDistance</th>\n",
       "    </tr>\n",
       "  </thead>\n",
       "  <tbody>\n",
       "    <tr>\n",
       "      <th>0</th>\n",
       "      <td>1</td>\n",
       "      <td>1</td>\n",
       "      <td>437</td>\n",
       "      <td>0.21901474567304474</td>\n",
       "    </tr>\n",
       "    <tr>\n",
       "      <th>1</th>\n",
       "      <td>1</td>\n",
       "      <td>2</td>\n",
       "      <td>484</td>\n",
       "      <td>0.20909903368469954</td>\n",
       "    </tr>\n",
       "    <tr>\n",
       "      <th>2</th>\n",
       "      <td>1</td>\n",
       "      <td>3</td>\n",
       "      <td>498</td>\n",
       "      <td>0.16591723658932545</td>\n",
       "    </tr>\n",
       "    <tr>\n",
       "      <th>3</th>\n",
       "      <td>1</td>\n",
       "      <td>4</td>\n",
       "      <td>526</td>\n",
       "      <td>0.15869120191669298</td>\n",
       "    </tr>\n",
       "    <tr>\n",
       "      <th>4</th>\n",
       "      <td>1</td>\n",
       "      <td>5</td>\n",
       "      <td>741</td>\n",
       "      <td>0.14835756463307</td>\n",
       "    </tr>\n",
       "  </tbody>\n",
       "</table>\n",
       "</div>"
      ],
      "text/plain": [
       "   QueryId DocPosition DocNumber      ElementDistance\n",
       "0        1           1       437  0.21901474567304474\n",
       "1        1           2       484  0.20909903368469954\n",
       "2        1           3       498  0.16591723658932545\n",
       "3        1           4       526  0.15869120191669298\n",
       "4        1           5       741     0.14835756463307"
      ]
     },
     "execution_count": 443,
     "metadata": {},
     "output_type": "execute_result"
    }
   ],
   "source": [
    "df_nostem = pd.read_csv('../result/resultados-nostemmer.csv', sep=';')\n",
    "\n",
    "df_nostem_split = df_nostem['ResultList'].str.split(', ', expand=True)\n",
    "\n",
    "df_nostem['DocPosition'] = df_nostem_split[0].str[1:]\n",
    "df_nostem['DocNumber'] = df_nostem_split[1]\n",
    "df_nostem['ElementDistance'] = df_nostem_split[2].str[:-1]\n",
    "\n",
    "df_nostem.drop(columns=['ResultList'], inplace=True)\n",
    "\n",
    "df_nostem.head()"
   ]
  },
  {
   "cell_type": "markdown",
   "metadata": {},
   "source": [
    "## Gráfico de 11 pontos de precisão e recall"
   ]
  },
  {
   "cell_type": "code",
   "execution_count": 522,
   "metadata": {},
   "outputs": [],
   "source": [
    "def generate_precision_recall(points, result, expected, csv_filename, plot_filename):\n",
    "    queries_set = set(result['QueryId'].to_list())\n",
    "    precisions_list = []\n",
    "    recalls_list = []\n",
    "    \n",
    "    for query in queries_set:\n",
    "        relevant_docs = set(expected[expected['QueryNumber'] == query]['DocNumber'])\n",
    "        retrieved_docs = result[result['QueryId'] == query]['DocNumber']\n",
    "        if len(retrieved_docs) == 0:\n",
    "            continue\n",
    "        \n",
    "        precisions = []\n",
    "        recalls = []\n",
    "        step = max(1, len(retrieved_docs) // points)\n",
    "        \n",
    "        for point in range(step, len(retrieved_docs) + 1, step):\n",
    "            current_retrieved = set(map(int,retrieved_docs[:point]))\n",
    "           \n",
    "            true_positives = len(current_retrieved.intersection(relevant_docs))\n",
    "        \n",
    "            precision = true_positives / len(current_retrieved)\n",
    "            recall = true_positives / len(relevant_docs)\n",
    "            \n",
    "            precisions.append(precision)\n",
    "            recalls.append(recall)\n",
    "        \n",
    "        precisions_list.append(precisions)\n",
    "        recalls_list.append(recalls)\n",
    "    \n",
    "    mean_precisions = np.mean([np.pad(p, (0, points - len(p)), 'constant') for p in precisions_list], axis=0)\n",
    "    mean_recalls = np.mean([np.pad(r, (0, points - len(r)), 'constant') for r in recalls_list], axis=0)\n",
    "    \n",
    "    plt.figure(figsize=(8, 6))\n",
    "    plt.plot(mean_recalls, mean_precisions, marker='o')\n",
    "    plt.title(f'{points} Pontos Precision-Recall')\n",
    "    plt.xlabel('Recall')\n",
    "    plt.ylabel('Precision')\n",
    "    plt.grid(True)\n",
    "    plt.savefig(plot_filename + '-2.pdf')\n",
    "    plt.savefig(plot_filename + '-3.png')\n",
    "    plt.show()\n",
    "    \n",
    "    precision_recall_df = pd.DataFrame({'Precision': mean_precisions, 'Recall': mean_recalls})\n",
    "    precision_recall_df.to_csv(csv_filename, sep=';', index=False)"
   ]
  },
  {
   "cell_type": "markdown",
   "metadata": {},
   "source": [
    "### Com Stemmer"
   ]
  },
  {
   "cell_type": "code",
   "execution_count": 523,
   "metadata": {},
   "outputs": [
    {
     "data": {
      "image/png": "[encoded data removed]",
      "text/plain": [
       "<Figure size 800x600 with 1 Axes>"
      ]
     },
     "metadata": {},
     "output_type": "display_data"
    }
   ],
   "source": [
    "generate_precision_recall(11, df_stem, df_esperados, '../avalia/11pontos-stemmer-1.csv', '../avalia/11pontos-stemmer')"
   ]
  },
  {
   "cell_type": "markdown",
   "metadata": {},
   "source": [
    "### Sem Stemmer"
   ]
  },
  {
   "cell_type": "code",
   "execution_count": 524,
   "metadata": {},
   "outputs": [
    {
     "data": {
      "image/png": "[encoded data removed]",
      "text/plain": [
       "<Figure size 800x600 with 1 Axes>"
      ]
     },
     "metadata": {},
     "output_type": "display_data"
    }
   ],
   "source": [
    "generate_precision_recall(11, df_nostem, df_esperados, '../avalia/11pontos-nostemmer-1.csv', '../avalia/11pontos-nostemmer')"
   ]
  },
  {
   "cell_type": "markdown",
   "metadata": {},
   "source": [
    "## F1"
   ]
  },
  {
   "cell_type": "markdown",
   "metadata": {},
   "source": [
    "**OBS**: Considere apenas os 10 primeiros documentos recuperados no ranking"
   ]
  },
  {
   "cell_type": "code",
   "execution_count": 447,
   "metadata": {},
   "outputs": [],
   "source": [
    "def calculate_f1(result, expected):\n",
    "    queries_set = set(result['QueryId'].to_list())\n",
    "\n",
    "    precisions_dict = {}\n",
    "    recalls_dict = {}\n",
    "\n",
    "    for query in queries_set:\n",
    "        relevant_docs = set(expected[expected['QueryNumber'] == query]['DocNumber'].to_list())\n",
    "\n",
    "        current_retrieveds = set(map(int,result[result['QueryId'] == query]['DocNumber'].to_list()[:10]))\n",
    "    \n",
    "        true_positives = len(relevant_docs.intersection(current_retrieveds))\n",
    "\n",
    "        precision = true_positives / len(current_retrieveds) if len(current_retrieveds) > 0 else 0\n",
    "        recall = true_positives / len(relevant_docs) if len(relevant_docs) > 0 else 0\n",
    "\n",
    "        precisions_dict[query] = precision\n",
    "        recalls_dict[query] = recall\n",
    "\n",
    "\n",
    "    precisions_list = np.array(list(precisions_dict.values()))\n",
    "    recalls_list = np.array(list(recalls_dict.values()))\n",
    "\n",
    "    mean_precision = np.mean(precisions_list)\n",
    "    mean_recall = np.mean(recalls_list)\n",
    "\n",
    "    if (mean_precision + mean_recall == 0):\n",
    "        return 0\n",
    "\n",
    "    f1_score = (2 * mean_precision * mean_recall) / (mean_precision + mean_recall)\n",
    "    return f1_score"
   ]
  },
  {
   "cell_type": "markdown",
   "metadata": {},
   "source": [
    "### (Com Stemmer, Sem Stemmer)"
   ]
  },
  {
   "cell_type": "code",
   "execution_count": 448,
   "metadata": {},
   "outputs": [
    {
     "data": {
      "text/plain": [
       "(0.22264317729630048, 0.2151513849757518)"
      ]
     },
     "execution_count": 448,
     "metadata": {},
     "output_type": "execute_result"
    }
   ],
   "source": [
    "calculate_f1(df_stem, df_esperados), calculate_f1(df_nostem, df_esperados)"
   ]
  },
  {
   "cell_type": "markdown",
   "metadata": {},
   "source": [
    "## Precision@N"
   ]
  },
  {
   "cell_type": "code",
   "execution_count": 449,
   "metadata": {},
   "outputs": [],
   "source": [
    "\n",
    "def mean_precision_at_n(n, result, expected):\n",
    "    queries_set = set(result['QueryId'].to_list())\n",
    "    precisions = []\n",
    "    for query in queries_set:\n",
    "        relevant_docs = expected[expected['QueryNumber'] == query]['DocNumber'].to_list()\n",
    "        current_retrieveds = list(map(int,result[result['QueryId'] == query]['DocNumber'].to_list()[:n]))\n",
    "\n",
    "        true_positives = len(set(relevant_docs).intersection(current_retrieveds))\n",
    "\n",
    "        precision = true_positives / n\n",
    "        precisions.append(precision)\n",
    "    \n",
    "    mean_precisions = np.mean(precisions)\n",
    "    return mean_precisions"
   ]
  },
  {
   "cell_type": "markdown",
   "metadata": {},
   "source": [
    "### Precision@5"
   ]
  },
  {
   "cell_type": "markdown",
   "metadata": {},
   "source": [
    "##### Com Stemmer x Sem Stemmer"
   ]
  },
  {
   "cell_type": "code",
   "execution_count": 450,
   "metadata": {},
   "outputs": [
    {
     "data": {
      "text/plain": [
       "(0.5313131313131313, 0.49494949494949503)"
      ]
     },
     "execution_count": 450,
     "metadata": {},
     "output_type": "execute_result"
    }
   ],
   "source": [
    "mean_precision_at_n(5, df_stem, df_esperados), mean_precision_at_n(5, df_nostem, df_esperados)"
   ]
  },
  {
   "cell_type": "markdown",
   "metadata": {},
   "source": [
    "##### Com Stemmer x Sem Stemmer"
   ]
  },
  {
   "cell_type": "markdown",
   "metadata": {},
   "source": [
    "### Precision@10"
   ]
  },
  {
   "cell_type": "code",
   "execution_count": 451,
   "metadata": {},
   "outputs": [
    {
     "data": {
      "text/plain": [
       "(0.41919191919191906, 0.4151515151515151)"
      ]
     },
     "execution_count": 451,
     "metadata": {},
     "output_type": "execute_result"
    }
   ],
   "source": [
    "mean_precision_at_n(10, df_stem, df_esperados), mean_precision_at_n(10, df_nostem, df_esperados)"
   ]
  },
  {
   "cell_type": "markdown",
   "metadata": {},
   "source": [
    "## Histograma de R-Precision (comparativo)"
   ]
  },
  {
   "cell_type": "code",
   "execution_count": 452,
   "metadata": {},
   "outputs": [],
   "source": [
    "\n",
    "def calculate_r_precision(n, retrieved_docs, relevant_docs):\n",
    "    true_positives = len(set(relevant_docs).intersection(retrieved_docs[:n]))\n",
    "    return true_positives / n\n",
    "\n",
    "def get_relevant_docs(expected, query):\n",
    "    return expected[expected['QueryNumber'] == query]['DocNumber'].to_list()\n",
    "\n",
    "\n",
    "def get_retrieved_docs(result, query, k):\n",
    "    return list(map(int,result[result['QueryId'] == query]['DocNumber'].to_list()[:k]))\n",
    "\n",
    "def calculate_all_r_precisions(result, expected, k=10):\n",
    "    r_precisions = []\n",
    "    queries_set = set(result['QueryId'].to_list())\n",
    "\n",
    "    for query in queries_set:\n",
    "        relevant_docs = get_relevant_docs(expected, query)\n",
    "        retrieved_docs = get_retrieved_docs(result, query, k)\n",
    "\n",
    "        r_precision = calculate_r_precision(k, retrieved_docs, relevant_docs)\n",
    "        r_precisions.append(r_precision)\n",
    "    \n",
    "    return queries_set, r_precisions\n",
    "\n",
    "\n",
    "def compare_r_precisions(result_nostem, result_stem, expected, csv_filename, plot_filename):\n",
    "    queries_set, r_precisions_nostem = calculate_all_r_precisions(result_nostem, expected)\n",
    "    _, r_precisions_stem = calculate_all_r_precisions(result_stem, expected)\n",
    "    comparative = np.array(r_precisions_stem) - np.array(r_precisions_nostem)\n",
    "    comparative_r_precisions_df = pd.DataFrame({'r_precision': comparative, 'query': list(queries_set)})\n",
    "\n",
    "    comparative_r_precisions_df.to_csv(csv_filename, sep=\";\", index=False)\n",
    "    \n",
    "    plt.bar(list(queries_set), comparative)\n",
    "    plt.title(\"Comparando R-Precision (Stemmer - NOStemmer)\")\n",
    "    plt.xlabel(\"Query\")\n",
    "    plt.ylabel(\"(R-Precision-Stemmer - R-Precision-NOStemmer)\")\n",
    "    plt.savefig(plot_filename + '-2.pdf')\n",
    "    plt.savefig(plot_filename + '-3.png')\n",
    "    plt.show()"
   ]
  },
  {
   "cell_type": "code",
   "execution_count": 453,
   "metadata": {},
   "outputs": [
    {
     "data": {
      "image/png": "[encoded data removed]",
      "text/plain": [
       "<Figure size 640x480 with 1 Axes>"
      ]
     },
     "metadata": {},
     "output_type": "display_data"
    }
   ],
   "source": [
    "compare_r_precisions(df_stem, df_nostem, df_esperados, \"../avalia/r-precision-comparative-1.csv\", \"../avalia/r-precision-comparative\")"
   ]
  },
  {
   "cell_type": "markdown",
   "metadata": {},
   "source": [
    "## MAP"
   ]
  },
  {
   "cell_type": "code",
   "execution_count": 460,
   "metadata": {},
   "outputs": [],
   "source": [
    "def calculate_precision_at_k(retrieved_docs, relevant_docs, k):\n",
    "    relevant_at_k = set(retrieved_docs[:k]).intersection(relevant_docs)\n",
    "    return len(relevant_at_k) / k\n",
    "\n",
    "def calculate_map(result, excepted):\n",
    "    queries_set = set(result['QueryId'].to_list())\n",
    "    average_precisions = []\n",
    "\n",
    "\n",
    "    for query in queries_set:\n",
    "        relevant_docs = set(excepted[excepted['QueryNumber'] == query]['DocNumber'])\n",
    "        retrieved_docs = list(map(int,result[result['QueryId'] == query]['DocNumber'].tolist()))\n",
    "\n",
    "        precisions = [\n",
    "            calculate_precision_at_k(retrieved_docs, relevant_docs, k + 1)\n",
    "            for k, doc in enumerate(retrieved_docs)\n",
    "            if doc in relevant_docs\n",
    "        ]\n",
    "                \n",
    "        if precisions:\n",
    "            average_precisions.append(np.mean(precisions))\n",
    "        else:\n",
    "            average_precisions.append(0.0)\n",
    "\n",
    "    return np.mean(average_precisions)"
   ]
  },
  {
   "cell_type": "markdown",
   "metadata": {},
   "source": [
    "### Com Stemmer x Sem Stemmer"
   ]
  },
  {
   "cell_type": "code",
   "execution_count": 461,
   "metadata": {},
   "outputs": [
    {
     "data": {
      "text/plain": [
       "(0.2529816637653684, 0.25029008690624566)"
      ]
     },
     "execution_count": 461,
     "metadata": {},
     "output_type": "execute_result"
    }
   ],
   "source": [
    "calculate_map(df_stem, df_esperados), calculate_map(df_nostem, df_esperados)"
   ]
  },
  {
   "cell_type": "markdown",
   "metadata": {},
   "source": [
    "## MRR"
   ]
  },
  {
   "cell_type": "code",
   "execution_count": 474,
   "metadata": {},
   "outputs": [],
   "source": [
    "def calculate_mrr(result, exptected):\n",
    "    queries_set = set(result['QueryId'].to_list())\n",
    "    reciprocal_ranks = []\n",
    "\n",
    "\n",
    "    for query in queries_set:\n",
    "        relevant_docs = set(exptected[exptected['QueryNumber'] == query]['DocNumber'])\n",
    "        retrieved_docs = list(map(int, result[result['QueryId'] == query]['DocNumber'][:10]))\n",
    "\n",
    "        reciprocal_rank = next((1 / (idx + 1) for idx, doc in enumerate(retrieved_docs) if doc in relevant_docs), 0)\n",
    "\n",
    "        reciprocal_ranks.append(reciprocal_rank)\n",
    "    \n",
    "    return np.mean(reciprocal_ranks)"
   ]
  },
  {
   "cell_type": "markdown",
   "metadata": {},
   "source": [
    "### Com Stemmer x Sem Stemmer"
   ]
  },
  {
   "cell_type": "code",
   "execution_count": 475,
   "metadata": {},
   "outputs": [
    {
     "data": {
      "text/plain": [
       "(0.8111111111111112, 0.8069143819143819)"
      ]
     },
     "execution_count": 475,
     "metadata": {},
     "output_type": "execute_result"
    }
   ],
   "source": [
    "calculate_mrr(df_stem, df_esperados), calculate_mrr(df_nostem, df_esperados)"
   ]
  },
  {
   "cell_type": "markdown",
   "metadata": {},
   "source": [
    "## Discounted Cumulative Gain (médio)"
   ]
  },
  {
   "cell_type": "code",
   "execution_count": 488,
   "metadata": {},
   "outputs": [],
   "source": [
    "def dcg_at_k(retrieved_docs, relevant_docs, scores, k=10):\n",
    "    dcg = 0.0\n",
    "    for idx in range(min(k, len(retrieved_docs))):\n",
    "        if retrieved_docs[idx] in relevant_docs:\n",
    "            rel_idx = relevant_docs.index(retrieved_docs[idx])\n",
    "            score = scores[rel_idx]\n",
    "            dcg += score if idx == 0 else score / np.log2(idx + 1)\n",
    "    return dcg\n",
    "\n",
    "def mean_discounted_cumulative_gain(result, expected):\n",
    "    queries_set = set(result['QueryId'].to_list())\n",
    "    discounted_cumulative_gains = []\n",
    "\n",
    "    for query in queries_set:\n",
    "        relevant_docs = expected[expected['QueryNumber'] == query]['DocNumber'].tolist()\n",
    "        scores = expected[expected['QueryNumber'] == query]['DocVotes'].tolist()\n",
    "        retrieved_docs = list(map(int,result[result['QueryId'] == query]['DocNumber'].tolist()[:10]))\n",
    "\n",
    "        dcg = dcg_at_k(retrieved_docs, relevant_docs, scores)\n",
    "        discounted_cumulative_gains.append(dcg)\n",
    "\n",
    "    mean_dcg = np.mean(discounted_cumulative_gains)\n",
    "    return mean_dcg"
   ]
  },
  {
   "cell_type": "markdown",
   "metadata": {},
   "source": [
    "### Com Stemmer x Sem Stemmer"
   ]
  },
  {
   "cell_type": "code",
   "execution_count": 489,
   "metadata": {},
   "outputs": [
    {
     "data": {
      "text/plain": [
       "(7.84882062320922, 7.518717810503947)"
      ]
     },
     "execution_count": 489,
     "metadata": {},
     "output_type": "execute_result"
    }
   ],
   "source": [
    "mean_discounted_cumulative_gain(df_stem, df_esperados), mean_discounted_cumulative_gain(df_nostem, df_esperados)"
   ]
  },
  {
   "cell_type": "markdown",
   "metadata": {},
   "source": [
    "## Normalized Discounted Cumulative Gain"
   ]
  },
  {
   "cell_type": "code",
   "execution_count": 518,
   "metadata": {},
   "outputs": [],
   "source": [
    "def calculate_dcg(scores, k):\n",
    "    if len(scores) == 0:\n",
    "        return 0\n",
    "    dcg = scores[0]\n",
    "    for i in range(1, min(k, len(scores))):\n",
    "        dcg += scores[i] / np.log2(i + 1)\n",
    "    return dcg\n",
    "\n",
    "def normalized_dcg(result, expected):\n",
    "    queries_set = set(result['QueryId'].to_list())\n",
    "    ndcg_list = []\n",
    "\n",
    "    for query in queries_set:\n",
    "        relevant_docs = expected[expected['QueryNumber'] == query]['DocNumber'].tolist()\n",
    "        scores = expected[expected['QueryNumber'] == query]['DocVotes'].tolist()\n",
    "        retrieved_docs = list(map(int,result[result['QueryId'] == query]['DocNumber'].tolist()[:10]))\n",
    "\n",
    "        retrieved_scores = [scores[relevant_docs.index(doc)] for doc in retrieved_docs if doc in relevant_docs]\n",
    "\n",
    "        retrieved_scores = np.array(retrieved_scores)\n",
    "\n",
    "        dcg = calculate_dcg(retrieved_scores, len(retrieved_docs))\n",
    "\n",
    "        ideal_scores = np.sort(retrieved_scores)[::-1]\n",
    "\n",
    "        dcg_max = calculate_dcg(ideal_scores, len(retrieved_docs))\n",
    "\n",
    "        ndcg = dcg / dcg_max if dcg_max > 0 else 0\n",
    "\n",
    "        ndcg_list.append(ndcg)\n",
    "        \n",
    "    return np.mean(ndcg_list) if len(ndcg_list) > 0 else 0"
   ]
  },
  {
   "cell_type": "markdown",
   "metadata": {},
   "source": [
    "### Com Stemmer x Sem Stemmer"
   ]
  },
  {
   "cell_type": "code",
   "execution_count": 519,
   "metadata": {},
   "outputs": [
    {
     "data": {
      "text/plain": [
       "(0.9237630497586744, 0.9152186823479266)"
      ]
     },
     "execution_count": 519,
     "metadata": {},
     "output_type": "execute_result"
    }
   ],
   "source": [
    "normalized_dcg(df_stem, df_esperados), normalized_dcg(df_nostem, df_esperados)"
   ]
  }
 ],
 "metadata": {
  "kernelspec": {
   "display_name": "Python 3",
   "language": "python",
   "name": "python3"
  },
  "language_info": {
   "codemirror_mode": {
    "name": "ipython",
    "version": 3
   },
   "file_extension": ".py",
   "mimetype": "text/x-python",
   "name": "python",
   "nbconvert_exporter": "python",
   "pygments_lexer": "ipython3",
   "version": "3.11.7"
  }
 },
 "nbformat": 4,
 "nbformat_minor": 2
}
